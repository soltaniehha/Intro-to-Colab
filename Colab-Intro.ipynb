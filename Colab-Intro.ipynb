{
  "nbformat": 4,
  "nbformat_minor": 0,
  "metadata": {
    "colab": {
      "name": "Colab-Intro.ipynb",
      "provenance": [],
      "collapsed_sections": [],
      "toc_visible": true,
      "machine_shape": "hm",
      "include_colab_link": true
    },
    "kernelspec": {
      "name": "python3",
      "display_name": "Python 3"
    }
  },
  "cells": [
    {
      "cell_type": "markdown",
      "metadata": {
        "id": "view-in-github",
        "colab_type": "text"
      },
      "source": [
        "<a href=\"https://colab.research.google.com/github/soltaniehha/Intro-to-Colab/blob/main/Colab-Intro.ipynb\" target=\"_parent\"><img src=\"https://colab.research.google.com/assets/colab-badge.svg\" alt=\"Open In Colab\"/></a>"
      ]
    },
    {
      "cell_type": "markdown",
      "metadata": {
        "id": "hkcI78C4Sybk"
      },
      "source": [
        "# Basic operations in Colaboratory notebook"
      ]
    },
    {
      "cell_type": "markdown",
      "metadata": {
        "id": "X1eAzUL-twns"
      },
      "source": [
        "Created: March 2021\n",
        "\n",
        "Updated: March 2021\n",
        "\n",
        "Author: Maxim Ziatdinov & Mohammad Soltanieh-ha\n",
        "\n",
        "Email: ziatdinovmax@gmail.com"
      ]
    },
    {
      "cell_type": "markdown",
      "metadata": {
        "id": "5DTQU4m2Uk35"
      },
      "source": [
        "---\n",
        "\n",
        "[Colaboratory](https://research.google.com/colaboratory/faq.html) (or Colab) is a free research tool from Google for machine learning education and research built on top of [Jupyter Notebook](https://jupyter.org/). From our experience, it is also an ideal tool for scientific collaboration and sharing your results with non-experts (as opposed to, say, collaboration via a GitHub project), especially when there are drastic fluctuations in coding skills across a team/collaboration. This particular notebook starts with a brief overview of Colab's UI and then shows some simple operations in Colab notebooks, including some basic plotting, code parameterization, usage of shell commands and installation of additional Python packages. Notice that many popular Python packages, such as tensorflow, pytorch, scikit, opencv, are already installed in Colaboratory. So we can just import them into our notebook and start having fun.\n",
        "\n",
        "---\n",
        "\n"
      ]
    },
    {
      "cell_type": "markdown",
      "metadata": {
        "id": "gvZo58B9gh8M"
      },
      "source": [
        "##Notebook rules:\n",
        "\n",
        "Some basic notebook rules:\n",
        "\n",
        "*General Jupyter notebooks rules:*\n",
        "\n",
        "\n",
        "1. Click inside a code cell and press SHIFT+ENTER to execute it.\n",
        "2. Use a Text cell with Markdown syntax to create rich text.\n",
        "3. Execute cells TOP TO BOTTOM.  \n",
        "\n",
        "*Colab-specific rules:*\n",
        "\n",
        "4. Notebooks are saved to your Google Drive unless you're in Playground mode or have opened a notebook hosted on GitHub (like this notebook). In those scenarios you can click on \"COPY TO DRIVE\" to save a copy to your Drive.\n",
        "5. Mount your Google Drive to have a direct access from a notebook to the files stored in the drive (this includes Shared Drives).\n",
        "6. If using Colab's virtual storage only, all the uploaded/stored files will get deleted when a runtime is recycled.\n",
        "7. In addition to SHIFT+ENTER, in Colab you can also execute a cell CTRL+ENTER, COMMAND+ENTER (MacOS), or by clicking the play button which appears after hovering over the left side of the cell.\n",
        "\n"
      ]
    },
    {
      "cell_type": "markdown",
      "metadata": {
        "id": "lSmlIG2Z3xg9"
      },
      "source": [
        "## Colab UI"
      ]
    },
    {
      "cell_type": "markdown",
      "metadata": {
        "id": "ePS_CtpL3CM_"
      },
      "source": [
        "###Opening notebooks\n",
        "\n",
        "\n",
        "You can open any notebook hosted on GitHub by going to Colaboratory [start page](https://colab.research.google.com) and selecting GITHUB from a menu dialog. Then search for a specific GitHub repository and choose a notebook that you would like to open from the list of notebooks in that repository. From the same [start page](https://colab.research.google.com) you can view and open notebooks stored in your GDrive, upload a regular Jupyter notebook from your local machine and start an entirely new notebook. Colab currently only supports Python 3 kernels. You can also choose between GPU and [TPU](https://colab.research.google.com/notebooks/tpu.ipynb) hardware accelerator options for your Colab notebook  (*Edit --> Notebook settings* or *Runtime --> Change runtime type*)."
      ]
    },
    {
      "cell_type": "markdown",
      "metadata": {
        "id": "BkkrjXN8x_Vq"
      },
      "source": [
        "###Upload/download files\n",
        "\n",
        "\n",
        "Once you open a Google Colab notebook, it creates a virtual machine instance on Google Cloud. To upload files from your local machine to Colab virtual storage, use UPLOAD option from the left sidebar. To download files from Colab's virtual storage to your local machine, right-click on a file and then select ''Download\".\n",
        "\n",
        "###Mount Drive\n",
        "You can also mount your google drive: once you click on MOUNT DRIVE in the left sidebar, it will insert a code cell into your notebook that you'll need to run to mount your google drive (it will ask for your authorization). Another way to download files (without mounting a google drive) is to use a `!gdown` or `!wget` commands (more details in the [Shell commands](#scrollTo=JrF12-bqPKPm) section)<br><br>\n",
        "\n",
        "<img src=\"https://github.com/soltaniehha/Intro-to-Colab/blob/main/figs/file-system.png?raw=true\" width=\"800\" align=\"center\"/><br><br>"
      ]
    },
    {
      "cell_type": "code",
      "metadata": {
        "colab": {
          "base_uri": "https://localhost:8080/"
        },
        "id": "TnTPz-xphLPC",
        "outputId": "c88221f9-879b-4c33-d8bd-ab1faead617b"
      },
      "source": [
        "from google.colab import drive\n",
        "drive.mount('/content/drive')"
      ],
      "execution_count": 1,
      "outputs": [
        {
          "output_type": "stream",
          "text": [
            "Mounted at /content/drive\n"
          ],
          "name": "stdout"
        }
      ]
    },
    {
      "cell_type": "code",
      "metadata": {
        "colab": {
          "base_uri": "https://localhost:8080/"
        },
        "id": "jKvGJM5LhjVj",
        "outputId": "f87e3cba-2796-4892-a4c3-f92373ddbfd7"
      },
      "source": [
        "ls /content/drive/"
      ],
      "execution_count": 2,
      "outputs": [
        {
          "output_type": "stream",
          "text": [
            "\u001b[0m\u001b[01;34mMyDrive\u001b[0m/  \u001b[01;34mShareddrives\u001b[0m/\n"
          ],
          "name": "stdout"
        }
      ]
    },
    {
      "cell_type": "markdown",
      "metadata": {
        "id": "ztbOYEUwyDIq"
      },
      "source": [
        "### Share your notebooks\n",
        "\n",
        "You may share your notebooks the same way you share Google Docs and Google Slides (it needs to be stored in your/team Google Drive for this). You can also comment on individual code cells in a notebook and your collaborators will receive your comments (in a form of email notification), as long as the notebook is shared with them. To leave a comment, hover over the right side of any code cell and click *Add a Comment*.  Alternatively, you may use a *Ctrl+Alt+M* shortcut. The ability to share comments can be very useful if you make some important additions/changes to the notebook (e.g. when you have an eureca moment) and you want your collaborators to see those additions/changes asap. It is also very useful when you get stuck and need help/advice.<br><br>\n",
        "\n",
        "<img src=\"https://drive.google.com/uc?export=view&id=1pofWWSCqhtKBxxjS28nP7mA2pgfJ5Zet\" width=800 px><br><br>"
      ]
    },
    {
      "cell_type": "markdown",
      "metadata": {
        "id": "LznJ4fbmiZvW"
      },
      "source": [
        "## Simple math with numpy and matplotlib"
      ]
    },
    {
      "cell_type": "markdown",
      "metadata": {
        "id": "Sl1VzZSRkGGp"
      },
      "source": [
        "We can use \"standard\" python packages like [numpy](https://www.numpy.org/) and [matplotlib](https://matplotlib.org/) as well any many other popular packages for data manipulation and data vizualization, which are pre-installed in Colab ."
      ]
    },
    {
      "cell_type": "code",
      "metadata": {
        "id": "XYNq0mwTkGGn"
      },
      "source": [
        "# Package for manipulation with numerical data\n",
        "import numpy as np\n",
        "# Package for plotting\n",
        "import matplotlib.pyplot as plt"
      ],
      "execution_count": 3,
      "outputs": []
    },
    {
      "cell_type": "markdown",
      "metadata": {
        "id": "AAkwo2VSkGGl"
      },
      "source": [
        "As an example, let's make a plot of *sin* and *cos* waves using numpy and matplotlib.\n",
        "\n",
        "First, define *'x'* and *'y'*:"
      ]
    },
    {
      "cell_type": "code",
      "metadata": {
        "id": "dUshwphCkGGh"
      },
      "source": [
        "# creates array of data points between 0 and 10, with 0.01 interval\n",
        "x = np.arange(0, 10, 0.01)\n",
        "# calculates sin function at each point\n",
        "y_sin = np.sin(x)\n",
        "# calculates cos function at each point\n",
        "y_cos = np.cos(x)"
      ],
      "execution_count": 4,
      "outputs": []
    },
    {
      "cell_type": "markdown",
      "metadata": {
        "id": "VAoobxVIkGGf"
      },
      "source": [
        "Now plot sine and cosine waves:"
      ]
    },
    {
      "cell_type": "code",
      "metadata": {
        "id": "hW1uYFIikGGR",
        "colab": {
          "base_uri": "https://localhost:8080/",
          "height": 517
        },
        "outputId": "1f24f354-32fb-415b-f4d7-bb9ecf7a2c43"
      },
      "source": [
        "# creates a figure and a set of subplots (ax1 and ax2)\n",
        "fig, (ax1, ax2) = plt.subplots(nrows=2, ncols=1, sharex=True, figsize=(8, 8))\n",
        "# plot sine wave in the first subplot\n",
        "ax1.plot(x, y_sin)\n",
        "ax1.set_title('Sine wave')\n",
        "ax1.set_ylabel('y', fontsize=14, style='italic')\n",
        "# plot cosine wave in the second subplot\n",
        "ax2.plot(x, y_cos)\n",
        "ax2.set_title('Cosine wave')\n",
        "ax2.set_ylabel('y', fontsize=14, style='italic')\n",
        "# this axis is shared by two subplots\n",
        "ax2.set_xlabel('x (rad)', fontsize=14, style='italic');"
      ],
      "execution_count": 5,
      "outputs": [
        {
          "output_type": "display_data",
          "data": {
            "image/png": "[encoded data removed]",
            "text/plain": [
              "<Figure size 576x576 with 2 Axes>"
            ]
          },
          "metadata": {
            "tags": [],
            "needs_background": "light"
          }
        }
      ]
    },
    {
      "cell_type": "markdown",
      "metadata": {
        "id": "exESruHD_X4M"
      },
      "source": [
        "## Forms"
      ]
    },
    {
      "cell_type": "markdown",
      "metadata": {
        "id": "p_e5IYOdCUcX"
      },
      "source": [
        "You can use forms to parameterize your code. To add a form, use *Insert --> Add form field* while your cursor is a Code cell.  Everytime you change the value in a form, the corresponding value in the code cell will adjust accordingly. Press SHIFT+ENTER or \"PLAY\" button on the left side to run the cell. In the example below we can adjust $a$ and $b$ parameters for $y = a sin(bx)$ function, level of noise and a figure size:"
      ]
    },
    {
      "cell_type": "code",
      "metadata": {
        "id": "i6Vr2Z9Q_ncJ",
        "colab": {
          "base_uri": "https://localhost:8080/",
          "height": 462
        },
        "outputId": "3dd1a01b-a88e-4044-b50d-ee032ecc4622"
      },
      "source": [
        "#@title Using Forms in Colab\n",
        "a = 2 #@param {type:\"slider\", min:0.5, max:5, step:0.1}\n",
        "b = 2.1 #@param {type:\"slider\", min:0.5, max:5, step:0.1}\n",
        "c = 0.5 #@param {type: \"slider\", min:0, max:5, step:0.1}\n",
        "noise = 0.7 #@param {type:\"slider\", min:0, max:1, step:0.1}\n",
        "fig_size = 7 #@param {type:\"slider\", min:4, max:10, step:1}\n",
        "\n",
        "x = np.arange(-10, 10, 0.01)\n",
        "y_sin = a*np.sin(b*x) + c + noise*np.random.normal(size=x.shape)\n",
        "plt.figure(figsize=(2*fig_size, fig_size))\n",
        "plt.plot(x, y_sin)\n",
        "plt.xlabel('x', fontsize=14, style='italic')\n",
        "plt.ylabel('y', fontsize=14, style='italic')\n",
        "plt.title('Sine wave')\n",
        "plt.show()"
      ],
      "execution_count": 6,
      "outputs": [
        {
          "output_type": "display_data",
          "data": {
            "image/png": "[encoded data removed]",
            "text/plain": [
              "<Figure size 1008x504 with 1 Axes>"
            ]
          },
          "metadata": {
            "tags": [],
            "needs_background": "light"
          }
        }
      ]
    },
    {
      "cell_type": "markdown",
      "metadata": {
        "id": "BrdTXAuy1Oym"
      },
      "source": [
        "Notice that you can also hide the entire code field (*More cell actions --> Form --> Hide code* or just double-clicking on a form)"
      ]
    },
    {
      "cell_type": "markdown",
      "metadata": {
        "id": "yir7C8XjKmvC"
      },
      "source": [
        "## Shell commands"
      ]
    },
    {
      "cell_type": "markdown",
      "metadata": {
        "id": "5_vA9wnlKrhR"
      },
      "source": [
        "Unlike Jupyter Lab, Colab doesn't have an option to open and work in a terminal/shell unless you are using Colab Pro which is not free. However, you can invoke shell commands by using either  `%%shell`  or  `%%bash` [\"cell magics\"](https://ipython.readthedocs.io/en/stable/interactive/magics.html#cell-magics) or by prefixing the command with `!` ."
      ]
    },
    {
      "cell_type": "markdown",
      "metadata": {
        "id": "r9G-TwSwIg0C"
      },
      "source": [
        "Notice that usually it is more practical to use a \"scratch cell\" for interacting with a shell instead of adding additional cells to your notebook, especially for one-line shell commands (*Insert* --> *Scratch code cell* or Ctrl+Alt+N shortcut) : <br><br>\n",
        "\n",
        "<img src=\"https://github.com/soltaniehha/Intro-to-Colab/blob/main/figs/scratch-code.png?raw=true\" width=\"800\" align=\"center\"/><br><br>"
      ]
    },
    {
      "cell_type": "markdown",
      "metadata": {
        "id": "sopDU856VDMk"
      },
      "source": [
        "The following command will list files and sub-directories in the current directory:"
      ]
    },
    {
      "cell_type": "code",
      "metadata": {
        "id": "4-5Pn03qLIDi",
        "colab": {
          "base_uri": "https://localhost:8080/"
        },
        "outputId": "92d906df-6a1e-4ba5-de21-8dd4a65af88e"
      },
      "source": [
        "!ls"
      ],
      "execution_count": 7,
      "outputs": [
        {
          "output_type": "stream",
          "text": [
            "drive  sample_data\n"
          ],
          "name": "stdout"
        }
      ]
    },
    {
      "cell_type": "markdown",
      "metadata": {
        "id": "f1FXV_S3sHdA"
      },
      "source": [
        "Note that some of the commonly used shell commands can be accessed directly in a cell, such as `ls` and `pwd`:"
      ]
    },
    {
      "cell_type": "code",
      "metadata": {
        "colab": {
          "base_uri": "https://localhost:8080/",
          "height": 35
        },
        "id": "6uxeHygHsQbJ",
        "outputId": "5b2c40b4-355c-4850-bda4-474c5b1d1efd"
      },
      "source": [
        "pwd"
      ],
      "execution_count": 8,
      "outputs": [
        {
          "output_type": "execute_result",
          "data": {
            "application/vnd.google.colaboratory.intrinsic+json": {
              "type": "string"
            },
            "text/plain": [
              "'/content'"
            ]
          },
          "metadata": {
            "tags": []
          },
          "execution_count": 8
        }
      ]
    },
    {
      "cell_type": "markdown",
      "metadata": {
        "id": "JvSTxGcyLa_b"
      },
      "source": [
        "Let's create an empty directory. We first confirm that a directotry with such name doesn't already exist. Since this will result in multiple lines of code, we use `%%bash` command at the beginning of the cell, which indicates that all the code lines in this cell should be interpreted as shell script."
      ]
    },
    {
      "cell_type": "code",
      "metadata": {
        "id": "xB78yEw8LNh0"
      },
      "source": [
        "%%bash\n",
        "newdir=\"ColabIntro\"\n",
        "if [ ! -d $newdir ]; then\n",
        "  mkdir $newdir\n",
        "fi"
      ],
      "execution_count": 9,
      "outputs": []
    },
    {
      "cell_type": "markdown",
      "metadata": {
        "id": "xJiI-UdkLgcH"
      },
      "source": [
        "View again files and directories in the current folder. You should now be able to see a new folder that we've just created."
      ]
    },
    {
      "cell_type": "code",
      "metadata": {
        "id": "QpoGjX05L-Sj",
        "colab": {
          "base_uri": "https://localhost:8080/"
        },
        "outputId": "5bd18539-d532-4918-cf1e-2d980c860e86"
      },
      "source": [
        "ls"
      ],
      "execution_count": 10,
      "outputs": [
        {
          "output_type": "stream",
          "text": [
            "\u001b[0m\u001b[01;34mColabIntro\u001b[0m/  \u001b[01;34mdrive\u001b[0m/  \u001b[01;34msample_data\u001b[0m/\n"
          ],
          "name": "stdout"
        }
      ]
    },
    {
      "cell_type": "markdown",
      "metadata": {
        "id": "6RIf0uSPHGt7"
      },
      "source": [
        "We can view a content of our new directory, which should be empty:"
      ]
    },
    {
      "cell_type": "code",
      "metadata": {
        "id": "Wy1ezWQiHNAF"
      },
      "source": [
        "ls ColabIntro"
      ],
      "execution_count": 11,
      "outputs": []
    },
    {
      "cell_type": "markdown",
      "metadata": {
        "id": "QZ926FpwNkb4"
      },
      "source": [
        "Let's create a text file inside our new directory. We will place a \"Hello World\" greeting on the first line of this text file:"
      ]
    },
    {
      "cell_type": "code",
      "metadata": {
        "id": "JhGHmDBBMMRz"
      },
      "source": [
        "!echo \"Hello World\" > ColabIntro/test.txt "
      ],
      "execution_count": 12,
      "outputs": []
    },
    {
      "cell_type": "markdown",
      "metadata": {
        "id": "Bkp3_dQONth7"
      },
      "source": [
        "View content of our new folder. We should be able to see the text file we just created."
      ]
    },
    {
      "cell_type": "code",
      "metadata": {
        "id": "Q9S3SOOzMeBy",
        "colab": {
          "base_uri": "https://localhost:8080/"
        },
        "outputId": "ca6a0b72-26b4-4326-98f1-49b2c8562d97"
      },
      "source": [
        "ls ColabIntro"
      ],
      "execution_count": 13,
      "outputs": [
        {
          "output_type": "stream",
          "text": [
            "test.txt\n"
          ],
          "name": "stdout"
        }
      ]
    },
    {
      "cell_type": "markdown",
      "metadata": {
        "id": "Y1LnXKPaN5hz"
      },
      "source": [
        "We can read a text file with `cat` command"
      ]
    },
    {
      "cell_type": "code",
      "metadata": {
        "id": "jLgPsNALMlzb",
        "colab": {
          "base_uri": "https://localhost:8080/"
        },
        "outputId": "79430056-8f2e-4942-ecca-eab561236e9f"
      },
      "source": [
        "!cat ColabIntro/test.txt"
      ],
      "execution_count": 14,
      "outputs": [
        {
          "output_type": "stream",
          "text": [
            "Hello World\n"
          ],
          "name": "stdout"
        }
      ]
    },
    {
      "cell_type": "markdown",
      "metadata": {
        "id": "7PZMmGZuH16c"
      },
      "source": [
        "We can also move or copy files between directories directly from a notebook. In the example below we copy the created text file to our root folder:"
      ]
    },
    {
      "cell_type": "code",
      "metadata": {
        "id": "7lhglgu1IDcf",
        "colab": {
          "base_uri": "https://localhost:8080/"
        },
        "outputId": "00806cb7-9696-4754-827f-6c09c970df94"
      },
      "source": [
        "!cp ColabIntro/test.txt ./\n",
        "!ls"
      ],
      "execution_count": 15,
      "outputs": [
        {
          "output_type": "stream",
          "text": [
            "ColabIntro  drive  sample_data\ttest.txt\n"
          ],
          "name": "stdout"
        }
      ]
    },
    {
      "cell_type": "markdown",
      "metadata": {
        "id": "bH2LsgR6MxqX"
      },
      "source": [
        "We can also write individual Python files to \"disk\" directly from a notebook. For example, it is common to store utility (\"helper\") functions defined in your notebook for some data analysis procedures in a separate python module (called e.g. utils.py) and then import them into the notebook. We can write a file to disk (virtual storage or GDrive) either with standard shell commands or with a notebook \"magic\" command (preferred). Let's first do it with a standard shell command:\n",
        "\n",
        "**Notice that now Colab allows creating Python files and editing them in a separate \"tab\".**"
      ]
    },
    {
      "cell_type": "code",
      "metadata": {
        "id": "WN43YkideiKo"
      },
      "source": [
        "%%bash\n",
        "echo \"\"\"# -*- coding: utf-8 -*-\n",
        "'''util functions'''\n",
        "\n",
        "##### Import necessary modules #####\n",
        "\n",
        "def util1():\n",
        "    '''Brief description'''\n",
        "    \n",
        "    ##### Function body #####\n",
        "    \n",
        "    return\"\"\" > utils1.py"
      ],
      "execution_count": 16,
      "outputs": []
    },
    {
      "cell_type": "markdown",
      "metadata": {
        "id": "PM8j2Vc4eh0I"
      },
      "source": [
        "View the Python file we just created:"
      ]
    },
    {
      "cell_type": "code",
      "metadata": {
        "id": "PbZXkjB5ehd5",
        "colab": {
          "base_uri": "https://localhost:8080/"
        },
        "outputId": "1024e24f-51b2-485f-e6e8-f72389ef1301"
      },
      "source": [
        "!cat utils1.py"
      ],
      "execution_count": 17,
      "outputs": [
        {
          "output_type": "stream",
          "text": [
            "# -*- coding: utf-8 -*-\n",
            "'''util functions'''\n",
            "\n",
            "##### Import necessary modules #####\n",
            "\n",
            "def util1():\n",
            "    '''Brief description'''\n",
            "    \n",
            "    ##### Function body #####\n",
            "    \n",
            "    return\n"
          ],
          "name": "stdout"
        }
      ]
    },
    {
      "cell_type": "markdown",
      "metadata": {
        "id": "FrIL5G8GNhaO"
      },
      "source": [
        "Append to the already existing python file (e.g. add another utility function):"
      ]
    },
    {
      "cell_type": "code",
      "metadata": {
        "id": "e4IT6t-nNBku"
      },
      "source": [
        "%%bash\n",
        "echo \"\"\"\n",
        "def util2():\n",
        "    '''Brief description'''\n",
        "    \n",
        "    ##### Function body #####\n",
        "    \n",
        "    return\"\"\" >> utils1.py"
      ],
      "execution_count": 18,
      "outputs": []
    },
    {
      "cell_type": "markdown",
      "metadata": {
        "id": "KzSXrhe_PxXW"
      },
      "source": [
        "View our Python file again:"
      ]
    },
    {
      "cell_type": "code",
      "metadata": {
        "id": "wFA2mtRQNvN6",
        "colab": {
          "base_uri": "https://localhost:8080/"
        },
        "outputId": "4b8a142b-7f07-4dc4-b342-b4019e2e4f1c"
      },
      "source": [
        "!cat utils1.py"
      ],
      "execution_count": 19,
      "outputs": [
        {
          "output_type": "stream",
          "text": [
            "# -*- coding: utf-8 -*-\n",
            "'''util functions'''\n",
            "\n",
            "##### Import necessary modules #####\n",
            "\n",
            "def util1():\n",
            "    '''Brief description'''\n",
            "    \n",
            "    ##### Function body #####\n",
            "    \n",
            "    return\n",
            "\n",
            "def util2():\n",
            "    '''Brief description'''\n",
            "    \n",
            "    ##### Function body #####\n",
            "    \n",
            "    return\n"
          ],
          "name": "stdout"
        }
      ]
    },
    {
      "cell_type": "markdown",
      "metadata": {
        "id": "UpTOFJmVJSyi"
      },
      "source": [
        "However it is much easier to write and edit+overwrite individual files with `%%writefile` \"magic\" command:"
      ]
    },
    {
      "cell_type": "code",
      "metadata": {
        "id": "WPb5HrAGIUQh",
        "colab": {
          "base_uri": "https://localhost:8080/"
        },
        "outputId": "2c7795c3-714b-4743-e83f-30141793ef14"
      },
      "source": [
        "%%writefile utils2.py\n",
        "# -*- coding: utf-8 -*-\n",
        "\"\"\"util functions\"\"\"\n",
        "\n",
        "##### Import necessary modules #####\n",
        "\n",
        "def util1():\n",
        "    \"\"\"Brief description\"\"\"\n",
        "    \n",
        "    ##### Function body #####\n",
        "    \n",
        "    return\n",
        "\n",
        "def util2():\n",
        "    \"\"\"Brief description\"\"\"\n",
        "    \n",
        "    ##### Function body #####\n",
        "    \n",
        "    return"
      ],
      "execution_count": 20,
      "outputs": [
        {
          "output_type": "stream",
          "text": [
            "Writing utils2.py\n"
          ],
          "name": "stdout"
        }
      ]
    },
    {
      "cell_type": "markdown",
      "metadata": {
        "id": "3cW8dMfKdVq_"
      },
      "source": [
        "View file content:"
      ]
    },
    {
      "cell_type": "code",
      "metadata": {
        "id": "wNfmQPZoKFtU",
        "colab": {
          "base_uri": "https://localhost:8080/"
        },
        "outputId": "36613bc0-0a27-4a25-e7c8-d4ef91b830d1"
      },
      "source": [
        "!cat utils2.py"
      ],
      "execution_count": 21,
      "outputs": [
        {
          "output_type": "stream",
          "text": [
            "# -*- coding: utf-8 -*-\n",
            "\"\"\"util functions\"\"\"\n",
            "\n",
            "##### Import necessary modules #####\n",
            "\n",
            "def util1():\n",
            "    \"\"\"Brief description\"\"\"\n",
            "    \n",
            "    ##### Function body #####\n",
            "    \n",
            "    return\n",
            "\n",
            "def util2():\n",
            "    \"\"\"Brief description\"\"\"\n",
            "    \n",
            "    ##### Function body #####\n",
            "    \n",
            "    return"
          ],
          "name": "stdout"
        }
      ]
    },
    {
      "cell_type": "markdown",
      "metadata": {
        "id": "JrF12-bqPKPm"
      },
      "source": [
        "Finally to download a large file from a google drive into your notebook, you can use a [gdown](https://pypi.org/project/gdown/) command followed by a *download* link. The difference between shared link and download link is that you need to replace 'open' with 'uc' in the link address. For example, this won't work:"
      ]
    },
    {
      "cell_type": "code",
      "metadata": {
        "id": "-W5kGPe1PlMd",
        "colab": {
          "base_uri": "https://localhost:8080/"
        },
        "outputId": "54d834c9-34a3-400d-9b88-be52ae5fd73a"
      },
      "source": [
        "!gdown https://drive.google.com/open?id=1nJZ9OmrbHVLZIRlCylb5cYrOxnqBLCYq"
      ],
      "execution_count": 22,
      "outputs": [
        {
          "output_type": "stream",
          "text": [
            "/usr/local/lib/python2.7/dist-packages/gdown/parse_url.py:31: UserWarning: You specified Google Drive Link but it is not the correct link to download the file. Maybe you should try: https://drive.google.com/uc?id=1nJZ9OmrbHVLZIRlCylb5cYrOxnqBLCYq\n",
            "  .format(url='https://drive.google.com/uc?id={}'.format(file_id))\n",
            "Downloading...\n",
            "From: https://drive.google.com/open?id=1nJZ9OmrbHVLZIRlCylb5cYrOxnqBLCYq\n",
            "To: /content/open?id=1nJZ9OmrbHVLZIRlCylb5cYrOxnqBLCYq\n",
            "62.8kB [00:00, 2.04MB/s]\n"
          ],
          "name": "stdout"
        }
      ]
    },
    {
      "cell_type": "markdown",
      "metadata": {
        "id": "mkN0EQSvP7BH"
      },
      "source": [
        "But once you change 'open' to 'uc' it starts working:"
      ]
    },
    {
      "cell_type": "code",
      "metadata": {
        "id": "W6KVbRNGQCCV",
        "colab": {
          "base_uri": "https://localhost:8080/"
        },
        "outputId": "51816d6c-f63c-4e9b-ec34-75a6ca3949b3"
      },
      "source": [
        "!gdown https://drive.google.com/uc?id=1nJZ9OmrbHVLZIRlCylb5cYrOxnqBLCYq"
      ],
      "execution_count": 23,
      "outputs": [
        {
          "output_type": "stream",
          "text": [
            "Downloading...\n",
            "From: https://drive.google.com/uc?id=1nJZ9OmrbHVLZIRlCylb5cYrOxnqBLCYq\n",
            "To: /content/atom2.npy\n",
            "\r  0% 0.00/13.6k [00:00<?, ?B/s]\r100% 13.6k/13.6k [00:00<00:00, 10.6MB/s]\n"
          ],
          "name": "stdout"
        }
      ]
    },
    {
      "cell_type": "markdown",
      "metadata": {
        "id": "zJv9zttQNc-j"
      },
      "source": [
        "Now let's remove the directory and file(s) we created:"
      ]
    },
    {
      "cell_type": "code",
      "metadata": {
        "id": "BGRC4zyxNVpB",
        "colab": {
          "base_uri": "https://localhost:8080/"
        },
        "outputId": "35150df4-1616-403e-f284-6edd11d8a8c1"
      },
      "source": [
        "!rm -r ColabIntro test.txt *.py *.npy open?*\n",
        "!ls"
      ],
      "execution_count": 24,
      "outputs": [
        {
          "output_type": "stream",
          "text": [
            "drive  sample_data\n"
          ],
          "name": "stdout"
        }
      ]
    },
    {
      "cell_type": "markdown",
      "metadata": {
        "id": "SdYs8IkFaddC"
      },
      "source": [
        "## Installations\n",
        "\n",
        "Colab has most of popular machine/deep learning packages pre-installed but if a package that you would like to use is not in Colab, you can install it using ```pip``` command. For example:"
      ]
    },
    {
      "cell_type": "code",
      "metadata": {
        "id": "fLWDbFfGavkk"
      },
      "source": [
        "try:\n",
        "    import numpyro\n",
        "except ModuleNotFoundError:\n",
        "    !pip install numpyro # it is okay to just use this last line"
      ],
      "execution_count": null,
      "outputs": []
    },
    {
      "cell_type": "markdown",
      "metadata": {
        "id": "eZBB0g4ebIrk"
      },
      "source": [
        "If a package needs to be installed with *setup.py* , you'll need to clone it first into your notebook's VM storage, cd into the cloned package directory and run ```python setup.py install``` command. For example:\n",
        "\n"
      ]
    },
    {
      "cell_type": "code",
      "metadata": {
        "id": "OmsBTtt5cHB8"
      },
      "source": [
        "!git clone https://github.com/ziatdinovmax/GPim.git\n",
        "!cd GPim && python setup.py install"
      ],
      "execution_count": null,
      "outputs": []
    },
    {
      "cell_type": "markdown",
      "metadata": {
        "id": "OoPbS5iGc2Jy"
      },
      "source": [
        "Notice that when installing with *setup.py* option, you will typically need to restart Colab's runtime (*Runtime --> Restart runtime* ot just *Ctrl + M .*) for Colab/Python to see the newly installed package (so it makes sense to do it at the start of your notebook not to loose all your local variables)."
      ]
    },
    {
      "cell_type": "markdown",
      "metadata": {
        "id": "3-8KZwLYY0TX"
      },
      "source": [
        "## Connecting Colab notebook to Deep Learning VM on Google Cloud\n",
        "\n",
        "Google Colab provides 12 GB of RAM and a free GPU (Tesla P100, Tesla K80 or Tesla T4). If this is not enough, you may connect your notebook  to an [AI Platform Notebooks](https://cloud.google.com/ml-engine/docs/notebooks/create-new) on Google Cloud where you can adjust specs of your instance each time before launching it. Watch Maxim's short tutorial video [here](https://drive.google.com/file/d/1ijawhI6AuPXxWhLu8flkrHZPTu3o_zF0/view?usp=sharing) ."
      ]
    },
    {
      "cell_type": "markdown",
      "metadata": {
        "id": "EQ-cgZ2mwrtR"
      },
      "source": [
        "## Colab Pro\n",
        "Optional upgrade ($10/month) to Colab Pro provides the following benefits:\n",
        "* Faster GPU - Tesla P100 ==> Tesla V100\n",
        "* More memory and CPU - 12 GB RAM and 2 vCPU ==> 25 GB RAM and 4 vCPU. You can choose between standard and HIGH-RAM machines by going to Runtime > Change runtime type.\n",
        "* Longer runtime - 12 hours ==> up 24 hours\n",
        "* Longer idle time - ~30 minutes of inactivity ==> ~60 minutes. If you are not running or writing code your VM is recycled. Your code is still saved in your Drive but your session is expired and anything you had saved on the VM is gone. Due to this behaviour it is advised to save all of your files on Drive (see mount Drive section above)"
      ]
    }
  ]
}